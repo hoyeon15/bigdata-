{
  "nbformat": 4,
  "nbformat_minor": 0,
  "metadata": {
    "colab": {
      "provenance": [],
      "authorship_tag": "ABX9TyMcKkk+bCOHBjrykW6XX9xs",
      "include_colab_link": true
    },
    "kernelspec": {
      "name": "python3",
      "display_name": "Python 3"
    },
    "language_info": {
      "name": "python"
    }
  },
  "cells": [
    {
      "cell_type": "markdown",
      "metadata": {
        "id": "view-in-github",
        "colab_type": "text"
      },
      "source": [
        "<a href=\"https://colab.research.google.com/github/hoyeon15/bigdata-/blob/main/3%EC%A3%BC%EC%B0%A8.ipynb\" target=\"_parent\"><img src=\"https://colab.research.google.com/assets/colab-badge.svg\" alt=\"Open In Colab\"/></a>"
      ]
    },
    {
      "cell_type": "code",
      "execution_count": 1,
      "metadata": {
        "colab": {
          "base_uri": "https://localhost:8080/"
        },
        "id": "yQ7LvGQvT3Ib",
        "outputId": "06af9ece-b40b-4cd4-f2d8-24c3f3f90a37"
      },
      "outputs": [
        {
          "output_type": "stream",
          "name": "stdout",
          "text": [
            "Hello, Big Data\n"
          ]
        }
      ],
      "source": [
        "print(\"Hello, Big Data\")"
      ]
    },
    {
      "cell_type": "code",
      "source": [
        "\n",
        "print('hello big data') \n",
        "print('hi, big data')"
      ],
      "metadata": {
        "colab": {
          "base_uri": "https://localhost:8080/"
        },
        "id": "yb5wJ30JUBzQ",
        "outputId": "ce613969-5ab6-41b4-c0ad-f04912d3333e"
      },
      "execution_count": 2,
      "outputs": [
        {
          "output_type": "stream",
          "name": "stdout",
          "text": [
            "hello big data\n",
            "hi, big data\n"
          ]
        }
      ]
    },
    {
      "cell_type": "code",
      "source": [
        "print(50**2)\n",
        "print(953**6) \n"
      ],
      "metadata": {
        "colab": {
          "base_uri": "https://localhost:8080/"
        },
        "id": "9t7BFVIRUJTn",
        "outputId": "f57ab564-e7e0-44c6-e61c-fc74f94ed4dd"
      },
      "execution_count": 3,
      "outputs": [
        {
          "output_type": "stream",
          "name": "stdout",
          "text": [
            "2500\n",
            "749130369924173329\n"
          ]
        }
      ]
    },
    {
      "cell_type": "code",
      "source": [
        "name='유호연'\n",
        "print(name)"
      ],
      "metadata": {
        "colab": {
          "base_uri": "https://localhost:8080/"
        },
        "id": "X6D3AWiGUOfI",
        "outputId": "fd7edfcf-840a-484b-d78a-113d39fb095d"
      },
      "execution_count": 4,
      "outputs": [
        {
          "output_type": "stream",
          "name": "stdout",
          "text": [
            "유호연\n"
          ]
        }
      ]
    },
    {
      "cell_type": "code",
      "source": [
        "name2='빅데이터'\n",
        "print(name2)"
      ],
      "metadata": {
        "colab": {
          "base_uri": "https://localhost:8080/"
        },
        "id": "n8yPHTm6UQ8Y",
        "outputId": "ef97f2df-f9b0-48de-baea-9e0ddd028582"
      },
      "execution_count": 5,
      "outputs": [
        {
          "output_type": "stream",
          "name": "stdout",
          "text": [
            "빅데이터\n"
          ]
        }
      ]
    },
    {
      "cell_type": "code",
      "source": [
        "name='big data'\n",
        "print(2020, name,'화이팅!')"
      ],
      "metadata": {
        "colab": {
          "base_uri": "https://localhost:8080/"
        },
        "id": "2LWoTugCUTkb",
        "outputId": "e9f4d063-fbea-452c-d11b-750fca4b5bc7"
      },
      "execution_count": 6,
      "outputs": [
        {
          "output_type": "stream",
          "name": "stdout",
          "text": [
            "2020 big data 화이팅!\n"
          ]
        }
      ]
    },
    {
      "cell_type": "code",
      "source": [
        "name=input()\n",
        "print(name+ '님 ! 안녕하세요')"
      ],
      "metadata": {
        "colab": {
          "base_uri": "https://localhost:8080/"
        },
        "id": "rpFqyH_jUWec",
        "outputId": "004307ec-7cba-42c8-e651-1d15ef4bca21"
      },
      "execution_count": 7,
      "outputs": [
        {
          "output_type": "stream",
          "name": "stdout",
          "text": [
            "유호연\n",
            "유호연님 ! 안녕하세요\n"
          ]
        }
      ]
    },
    {
      "cell_type": "code",
      "source": [
        "age = input('나이를 입력하세요!:')\n",
        "print(int(age)-4)"
      ],
      "metadata": {
        "colab": {
          "base_uri": "https://localhost:8080/"
        },
        "id": "o-XahJOjUfIr",
        "outputId": "96658c22-d2ec-41c5-b698-a597082c5673"
      },
      "execution_count": 9,
      "outputs": [
        {
          "output_type": "stream",
          "name": "stdout",
          "text": [
            "나이를 입력하세요!:21\n",
            "17\n"
          ]
        }
      ]
    },
    {
      "cell_type": "code",
      "source": [
        "name=input('이름을 입력해주세요!:')\n",
        "age=int(input('나이를 입력해주세요!:'))\n",
        "print('안녕하세요!', name+'님! 저는 처음에'+str(age-4)+'살인 줄 알았어요')"
      ],
      "metadata": {
        "colab": {
          "base_uri": "https://localhost:8080/"
        },
        "id": "5yIyggvrUkAh",
        "outputId": "dba3d612-0719-4510-d3e2-c96df5c8ae77"
      },
      "execution_count": 10,
      "outputs": [
        {
          "output_type": "stream",
          "name": "stdout",
          "text": [
            "이름을 입력해주세요!:유호연\n",
            "나이를 입력해주세요!:21\n",
            "안녕하세요! 유호연님! 저는 처음에17살인 줄 알았어요\n"
          ]
        }
      ]
    }
  ]
}