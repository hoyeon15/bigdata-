{
  "nbformat": 4,
  "nbformat_minor": 0,
  "metadata": {
    "colab": {
      "provenance": [],
      "authorship_tag": "ABX9TyNkFZ9dzEyRfS0136p+xqmK",
      "include_colab_link": true
    },
    "kernelspec": {
      "name": "python3",
      "display_name": "Python 3"
    },
    "language_info": {
      "name": "python"
    }
  },
  "cells": [
    {
      "cell_type": "markdown",
      "metadata": {
        "id": "view-in-github",
        "colab_type": "text"
      },
      "source": [
        "<a href=\"https://colab.research.google.com/github/hoyeon15/bigdata-/blob/main/4%EC%A3%BC%EC%B0%A8.ipynb\" target=\"_parent\"><img src=\"https://colab.research.google.com/assets/colab-badge.svg\" alt=\"Open In Colab\"/></a>"
      ]
    },
    {
      "cell_type": "code",
      "execution_count": 1,
      "metadata": {
        "colab": {
          "base_uri": "https://localhost:8080/"
        },
        "id": "9u_r93tFU1Re",
        "outputId": "0f2b6e6a-f5c0-48b4-8042-140c6ae4841b"
      },
      "outputs": [
        {
          "output_type": "stream",
          "name": "stdout",
          "text": [
            "True\n"
          ]
        }
      ],
      "source": [
        "print(5%3==2)"
      ]
    },
    {
      "cell_type": "code",
      "source": [
        "print(3%2==1)"
      ],
      "metadata": {
        "colab": {
          "base_uri": "https://localhost:8080/"
        },
        "id": "GDQVFU4kVHnd",
        "outputId": "c10f8c9a-4c4e-49e2-c68e-59a3c60bbaf3"
      },
      "execution_count": 5,
      "outputs": [
        {
          "output_type": "stream",
          "name": "stdout",
          "text": [
            "True\n"
          ]
        }
      ]
    },
    {
      "cell_type": "code",
      "source": [
        "print(not 10>5)"
      ],
      "metadata": {
        "colab": {
          "base_uri": "https://localhost:8080/"
        },
        "id": "P8uKwJeKVHwo",
        "outputId": "e38737b2-14cb-49d8-cd12-c83f88b1ad12"
      },
      "execution_count": 7,
      "outputs": [
        {
          "output_type": "stream",
          "name": "stdout",
          "text": [
            "False\n"
          ]
        }
      ]
    },
    {
      "cell_type": "code",
      "source": [
        "print(10<5 or 5<10)"
      ],
      "metadata": {
        "colab": {
          "base_uri": "https://localhost:8080/"
        },
        "id": "qIckq69JVH2y",
        "outputId": "de6ac5e7-aafe-4925-c240-dd1cfdf2542c"
      },
      "execution_count": 6,
      "outputs": [
        {
          "output_type": "stream",
          "name": "stdout",
          "text": [
            "True\n"
          ]
        }
      ]
    },
    {
      "cell_type": "code",
      "source": [
        "print(5==5 and 2%2==0)"
      ],
      "metadata": {
        "colab": {
          "base_uri": "https://localhost:8080/"
        },
        "id": "unmiHtUCU5m7",
        "outputId": "f6bc1542-bc38-459e-80ac-10fa70a2735d"
      },
      "execution_count": 2,
      "outputs": [
        {
          "output_type": "stream",
          "name": "stdout",
          "text": [
            "True\n"
          ]
        }
      ]
    },
    {
      "cell_type": "code",
      "source": [
        "print(not 10>5)\n",
        "print(not 0) #0=false \n"
      ],
      "metadata": {
        "colab": {
          "base_uri": "https://localhost:8080/"
        },
        "id": "wYelpPG4U5pj",
        "outputId": "96b9ddb3-683a-4a8c-f373-ca0093f438d4"
      },
      "execution_count": 3,
      "outputs": [
        {
          "output_type": "stream",
          "name": "stdout",
          "text": [
            "False\n",
            "True\n"
          ]
        }
      ]
    },
    {
      "cell_type": "code",
      "source": [
        "print(not 10)"
      ],
      "metadata": {
        "colab": {
          "base_uri": "https://localhost:8080/"
        },
        "id": "v_qUWCXZVRTM",
        "outputId": "8035e9eb-764e-4b91-bec2-78d393d46482"
      },
      "execution_count": 8,
      "outputs": [
        {
          "output_type": "stream",
          "name": "stdout",
          "text": [
            "False\n"
          ]
        }
      ]
    },
    {
      "cell_type": "code",
      "source": [
        "print(not 0)"
      ],
      "metadata": {
        "colab": {
          "base_uri": "https://localhost:8080/"
        },
        "id": "usfaYgppVRc6",
        "outputId": "63725de1-9018-4f44-a04d-6222ba603500"
      },
      "execution_count": 9,
      "outputs": [
        {
          "output_type": "stream",
          "name": "stdout",
          "text": [
            "True\n"
          ]
        }
      ]
    },
    {
      "cell_type": "markdown",
      "source": [
        "함수 불러오기\n"
      ],
      "metadata": {
        "id": "pkSj60hNVbyN"
      }
    },
    {
      "cell_type": "code",
      "source": [
        "import random\n",
        "dice=random.randint(1,8)\n",
        "print(dice)"
      ],
      "metadata": {
        "colab": {
          "base_uri": "https://localhost:8080/"
        },
        "id": "1ZsxEICwU5sL",
        "outputId": "8daab627-ad3a-45a1-8b89-3425dba25f1e"
      },
      "execution_count": 4,
      "outputs": [
        {
          "output_type": "stream",
          "name": "stdout",
          "text": [
            "4\n"
          ]
        }
      ]
    },
    {
      "cell_type": "code",
      "source": [
        "import math\n",
        "print(math.sqrt(8))"
      ],
      "metadata": {
        "colab": {
          "base_uri": "https://localhost:8080/"
        },
        "id": "0XNb78rUU5uq",
        "outputId": "336ab857-ce3e-49f9-b936-598d1026f346"
      },
      "execution_count": 10,
      "outputs": [
        {
          "output_type": "stream",
          "name": "stdout",
          "text": [
            "2.8284271247461903\n"
          ]
        }
      ]
    },
    {
      "cell_type": "code",
      "source": [
        "name='파이쏭'\n",
        "for i in name:\n",
        "   print(i)"
      ],
      "metadata": {
        "colab": {
          "base_uri": "https://localhost:8080/"
        },
        "id": "zEYGCQUhU5xK",
        "outputId": "e8634b57-b178-4bfb-db54-d0ff10625a2c"
      },
      "execution_count": 11,
      "outputs": [
        {
          "output_type": "stream",
          "name": "stdout",
          "text": [
            "파\n",
            "이\n",
            "쏭\n"
          ]
        }
      ]
    },
    {
      "cell_type": "code",
      "source": [
        "names=['쵸파','루피','상디', '조로']\n",
        "for name in names:\n",
        "  print(name)"
      ],
      "metadata": {
        "colab": {
          "base_uri": "https://localhost:8080/"
        },
        "id": "Pc16CLNKU5zb",
        "outputId": "aade576e-eff4-40af-c22e-2ab808cb8a49"
      },
      "execution_count": 12,
      "outputs": [
        {
          "output_type": "stream",
          "name": "stdout",
          "text": [
            "쵸파\n",
            "루피\n",
            "상디\n",
            "조로\n"
          ]
        }
      ]
    },
    {
      "cell_type": "code",
      "source": [
        "names = ['초파','루피','상디','조로','나미']\n",
        "\n",
        "print(names[1])"
      ],
      "metadata": {
        "colab": {
          "base_uri": "https://localhost:8080/"
        },
        "id": "n3Supt1HU51z",
        "outputId": "19ab1233-1f4a-40ef-a63d-45d17dbf6224"
      },
      "execution_count": 13,
      "outputs": [
        {
          "output_type": "stream",
          "name": "stdout",
          "text": [
            "루피\n"
          ]
        }
      ]
    },
    {
      "cell_type": "code",
      "source": [
        "for i in [0,1,2,3]:\n",
        "  print(i**2)"
      ],
      "metadata": {
        "colab": {
          "base_uri": "https://localhost:8080/"
        },
        "id": "f6kGauooU54V",
        "outputId": "b2e01cdf-58c4-4652-a971-81ec2cc1dc6e"
      },
      "execution_count": 14,
      "outputs": [
        {
          "output_type": "stream",
          "name": "stdout",
          "text": [
            "0\n",
            "1\n",
            "4\n",
            "9\n"
          ]
        }
      ]
    },
    {
      "cell_type": "code",
      "source": [
        "for i in range(100):\n",
        "  print(i**2)"
      ],
      "metadata": {
        "colab": {
          "base_uri": "https://localhost:8080/"
        },
        "id": "DUdn27t0V0ys",
        "outputId": "ad2080b4-cf32-48a6-af6c-7c637e3f0a35"
      },
      "execution_count": 15,
      "outputs": [
        {
          "output_type": "stream",
          "name": "stdout",
          "text": [
            "0\n",
            "1\n",
            "4\n",
            "9\n",
            "16\n",
            "25\n",
            "36\n",
            "49\n",
            "64\n",
            "81\n",
            "100\n",
            "121\n",
            "144\n",
            "169\n",
            "196\n",
            "225\n",
            "256\n",
            "289\n",
            "324\n",
            "361\n",
            "400\n",
            "441\n",
            "484\n",
            "529\n",
            "576\n",
            "625\n",
            "676\n",
            "729\n",
            "784\n",
            "841\n",
            "900\n",
            "961\n",
            "1024\n",
            "1089\n",
            "1156\n",
            "1225\n",
            "1296\n",
            "1369\n",
            "1444\n",
            "1521\n",
            "1600\n",
            "1681\n",
            "1764\n",
            "1849\n",
            "1936\n",
            "2025\n",
            "2116\n",
            "2209\n",
            "2304\n",
            "2401\n",
            "2500\n",
            "2601\n",
            "2704\n",
            "2809\n",
            "2916\n",
            "3025\n",
            "3136\n",
            "3249\n",
            "3364\n",
            "3481\n",
            "3600\n",
            "3721\n",
            "3844\n",
            "3969\n",
            "4096\n",
            "4225\n",
            "4356\n",
            "4489\n",
            "4624\n",
            "4761\n",
            "4900\n",
            "5041\n",
            "5184\n",
            "5329\n",
            "5476\n",
            "5625\n",
            "5776\n",
            "5929\n",
            "6084\n",
            "6241\n",
            "6400\n",
            "6561\n",
            "6724\n",
            "6889\n",
            "7056\n",
            "7225\n",
            "7396\n",
            "7569\n",
            "7744\n",
            "7921\n",
            "8100\n",
            "8281\n",
            "8464\n",
            "8649\n",
            "8836\n",
            "9025\n",
            "9216\n",
            "9409\n",
            "9604\n",
            "9801\n"
          ]
        }
      ]
    },
    {
      "cell_type": "code",
      "source": [
        "for i in range(100):\n",
        "   print('나는 파이썬 왕이 될 사람이다!!')"
      ],
      "metadata": {
        "colab": {
          "base_uri": "https://localhost:8080/"
        },
        "id": "c-4MOq2_V01_",
        "outputId": "45f73929-a044-4271-90b4-8bb7d6e58f86"
      },
      "execution_count": 16,
      "outputs": [
        {
          "output_type": "stream",
          "name": "stdout",
          "text": [
            "나는 파이썬 왕이 될 사람이다!!\n",
            "나는 파이썬 왕이 될 사람이다!!\n",
            "나는 파이썬 왕이 될 사람이다!!\n",
            "나는 파이썬 왕이 될 사람이다!!\n",
            "나는 파이썬 왕이 될 사람이다!!\n",
            "나는 파이썬 왕이 될 사람이다!!\n",
            "나는 파이썬 왕이 될 사람이다!!\n",
            "나는 파이썬 왕이 될 사람이다!!\n",
            "나는 파이썬 왕이 될 사람이다!!\n",
            "나는 파이썬 왕이 될 사람이다!!\n",
            "나는 파이썬 왕이 될 사람이다!!\n",
            "나는 파이썬 왕이 될 사람이다!!\n",
            "나는 파이썬 왕이 될 사람이다!!\n",
            "나는 파이썬 왕이 될 사람이다!!\n",
            "나는 파이썬 왕이 될 사람이다!!\n",
            "나는 파이썬 왕이 될 사람이다!!\n",
            "나는 파이썬 왕이 될 사람이다!!\n",
            "나는 파이썬 왕이 될 사람이다!!\n",
            "나는 파이썬 왕이 될 사람이다!!\n",
            "나는 파이썬 왕이 될 사람이다!!\n",
            "나는 파이썬 왕이 될 사람이다!!\n",
            "나는 파이썬 왕이 될 사람이다!!\n",
            "나는 파이썬 왕이 될 사람이다!!\n",
            "나는 파이썬 왕이 될 사람이다!!\n",
            "나는 파이썬 왕이 될 사람이다!!\n",
            "나는 파이썬 왕이 될 사람이다!!\n",
            "나는 파이썬 왕이 될 사람이다!!\n",
            "나는 파이썬 왕이 될 사람이다!!\n",
            "나는 파이썬 왕이 될 사람이다!!\n",
            "나는 파이썬 왕이 될 사람이다!!\n",
            "나는 파이썬 왕이 될 사람이다!!\n",
            "나는 파이썬 왕이 될 사람이다!!\n",
            "나는 파이썬 왕이 될 사람이다!!\n",
            "나는 파이썬 왕이 될 사람이다!!\n",
            "나는 파이썬 왕이 될 사람이다!!\n",
            "나는 파이썬 왕이 될 사람이다!!\n",
            "나는 파이썬 왕이 될 사람이다!!\n",
            "나는 파이썬 왕이 될 사람이다!!\n",
            "나는 파이썬 왕이 될 사람이다!!\n",
            "나는 파이썬 왕이 될 사람이다!!\n",
            "나는 파이썬 왕이 될 사람이다!!\n",
            "나는 파이썬 왕이 될 사람이다!!\n",
            "나는 파이썬 왕이 될 사람이다!!\n",
            "나는 파이썬 왕이 될 사람이다!!\n",
            "나는 파이썬 왕이 될 사람이다!!\n",
            "나는 파이썬 왕이 될 사람이다!!\n",
            "나는 파이썬 왕이 될 사람이다!!\n",
            "나는 파이썬 왕이 될 사람이다!!\n",
            "나는 파이썬 왕이 될 사람이다!!\n",
            "나는 파이썬 왕이 될 사람이다!!\n",
            "나는 파이썬 왕이 될 사람이다!!\n",
            "나는 파이썬 왕이 될 사람이다!!\n",
            "나는 파이썬 왕이 될 사람이다!!\n",
            "나는 파이썬 왕이 될 사람이다!!\n",
            "나는 파이썬 왕이 될 사람이다!!\n",
            "나는 파이썬 왕이 될 사람이다!!\n",
            "나는 파이썬 왕이 될 사람이다!!\n",
            "나는 파이썬 왕이 될 사람이다!!\n",
            "나는 파이썬 왕이 될 사람이다!!\n",
            "나는 파이썬 왕이 될 사람이다!!\n",
            "나는 파이썬 왕이 될 사람이다!!\n",
            "나는 파이썬 왕이 될 사람이다!!\n",
            "나는 파이썬 왕이 될 사람이다!!\n",
            "나는 파이썬 왕이 될 사람이다!!\n",
            "나는 파이썬 왕이 될 사람이다!!\n",
            "나는 파이썬 왕이 될 사람이다!!\n",
            "나는 파이썬 왕이 될 사람이다!!\n",
            "나는 파이썬 왕이 될 사람이다!!\n",
            "나는 파이썬 왕이 될 사람이다!!\n",
            "나는 파이썬 왕이 될 사람이다!!\n",
            "나는 파이썬 왕이 될 사람이다!!\n",
            "나는 파이썬 왕이 될 사람이다!!\n",
            "나는 파이썬 왕이 될 사람이다!!\n",
            "나는 파이썬 왕이 될 사람이다!!\n",
            "나는 파이썬 왕이 될 사람이다!!\n",
            "나는 파이썬 왕이 될 사람이다!!\n",
            "나는 파이썬 왕이 될 사람이다!!\n",
            "나는 파이썬 왕이 될 사람이다!!\n",
            "나는 파이썬 왕이 될 사람이다!!\n",
            "나는 파이썬 왕이 될 사람이다!!\n",
            "나는 파이썬 왕이 될 사람이다!!\n",
            "나는 파이썬 왕이 될 사람이다!!\n",
            "나는 파이썬 왕이 될 사람이다!!\n",
            "나는 파이썬 왕이 될 사람이다!!\n",
            "나는 파이썬 왕이 될 사람이다!!\n",
            "나는 파이썬 왕이 될 사람이다!!\n",
            "나는 파이썬 왕이 될 사람이다!!\n",
            "나는 파이썬 왕이 될 사람이다!!\n",
            "나는 파이썬 왕이 될 사람이다!!\n",
            "나는 파이썬 왕이 될 사람이다!!\n",
            "나는 파이썬 왕이 될 사람이다!!\n",
            "나는 파이썬 왕이 될 사람이다!!\n",
            "나는 파이썬 왕이 될 사람이다!!\n",
            "나는 파이썬 왕이 될 사람이다!!\n",
            "나는 파이썬 왕이 될 사람이다!!\n",
            "나는 파이썬 왕이 될 사람이다!!\n",
            "나는 파이썬 왕이 될 사람이다!!\n",
            "나는 파이썬 왕이 될 사람이다!!\n",
            "나는 파이썬 왕이 될 사람이다!!\n",
            "나는 파이썬 왕이 될 사람이다!!\n"
          ]
        }
      ]
    },
    {
      "cell_type": "code",
      "source": [
        "if 10>0:\n",
        "  print('안녕하세요?')"
      ],
      "metadata": {
        "colab": {
          "base_uri": "https://localhost:8080/"
        },
        "id": "JtTDF3kJV04m",
        "outputId": "04def364-aeb2-40f6-f2a4-2de943135a5c"
      },
      "execution_count": 17,
      "outputs": [
        {
          "output_type": "stream",
          "name": "stdout",
          "text": [
            "안녕하세요?\n"
          ]
        }
      ]
    },
    {
      "cell_type": "code",
      "source": [
        "if 0>10:\n",
        "  print('안녕하세요?')"
      ],
      "metadata": {
        "id": "YDeyaksAV07M"
      },
      "execution_count": 18,
      "outputs": []
    },
    {
      "cell_type": "code",
      "source": [
        "#!는 아닌 것을 뜻함, 10!면 10이 아닐때\n",
        "#맞지 않으면 출력이 안됨\n",
        "if 10!=0 and 5%2==5:\n",
        "  print('안녕하세요')"
      ],
      "metadata": {
        "id": "c-8B5FDBWAcQ"
      },
      "execution_count": 19,
      "outputs": []
    },
    {
      "cell_type": "code",
      "source": [
        "passwd=int(input('비밀번호 4자리를 입력하세요:'))\n",
        "if passwd==1531:\n",
        "  print('비밀번호가 일치합니다.')\n",
        "else:\n",
        "  print('비밀번호가 일치하지 않습니다.')\n",
        "#또는 if passwd=1531! print('비밀번호가 일치하지 않습니다.')"
      ],
      "metadata": {
        "colab": {
          "base_uri": "https://localhost:8080/"
        },
        "id": "rPeWSb8EWAfP",
        "outputId": "d8f98ae0-f4d0-479f-9db3-cf6fd99b8539"
      },
      "execution_count": 20,
      "outputs": [
        {
          "output_type": "stream",
          "name": "stdout",
          "text": [
            "비밀번호 4자리를 입력하세요:1531\n",
            "비밀번호가 일치합니다.\n"
          ]
        }
      ]
    },
    {
      "cell_type": "code",
      "source": [
        "print('[소름끼치도록 놀라운 심리테스트]')\n",
        "menu=input('당신이 좋아하는 음식을 입력해주세요:')\n",
        "if menu=='짜장면':\n",
        "  print('당신은 짜장면을 좋아하는 사람입니다.')\n",
        "elif menu=='아이스크림':\n",
        "  print('당신은 아이스크림을 좋아하는 사람입니다.')\n",
        "elif menu=='사탕':\n",
        "  print('당신은 사탕을 좋아하는 사람입니다.')\n",
        "else:\n",
        "  print('당신은 짜장면과 아이스크림과 사탕을 좋아하지 않는 사람입니다.')\n",
        "#elif 그리고 만약에"
      ],
      "metadata": {
        "colab": {
          "base_uri": "https://localhost:8080/"
        },
        "id": "04h3SOoiWAh5",
        "outputId": "86f139fd-3d4f-486c-8f7b-fef96b11238b"
      },
      "execution_count": 21,
      "outputs": [
        {
          "output_type": "stream",
          "name": "stdout",
          "text": [
            "[소름끼치도록 놀라운 심리테스트]\n",
            "당신이 좋아하는 음식을 입력해주세요:다코야끼\n",
            "당신은 짜장면과 아이스크림과 사탕을 좋아하지 않는 사람입니다.\n"
          ]
        }
      ]
    },
    {
      "cell_type": "code",
      "source": [
        "for i in [0,1,2,3]:\n",
        "  print(i**2)"
      ],
      "metadata": {
        "colab": {
          "base_uri": "https://localhost:8080/"
        },
        "id": "MI6u7TmFWAkX",
        "outputId": "95b8ac8c-229d-4636-b696-9522e77ea680"
      },
      "execution_count": 22,
      "outputs": [
        {
          "output_type": "stream",
          "name": "stdout",
          "text": [
            "0\n",
            "1\n",
            "4\n",
            "9\n"
          ]
        }
      ]
    },
    {
      "cell_type": "code",
      "source": [
        "names=['쵸파', '루피', '상디', '조로']\n",
        "for name in names:\n",
        "  print(name)"
      ],
      "metadata": {
        "colab": {
          "base_uri": "https://localhost:8080/"
        },
        "id": "YRoMYKS6WX1E",
        "outputId": "5542b733-f37d-470f-e4cf-df8c159d8ddd"
      },
      "execution_count": 23,
      "outputs": [
        {
          "output_type": "stream",
          "name": "stdout",
          "text": [
            "쵸파\n",
            "루피\n",
            "상디\n",
            "조로\n"
          ]
        }
      ]
    },
    {
      "cell_type": "code",
      "source": [
        "print(names[1])"
      ],
      "metadata": {
        "colab": {
          "base_uri": "https://localhost:8080/"
        },
        "id": "yo8i5jv0WX30",
        "outputId": "6cfefe1e-3211-4652-d76a-d97a2a1fba32"
      },
      "execution_count": 24,
      "outputs": [
        {
          "output_type": "stream",
          "name": "stdout",
          "text": [
            "루피\n"
          ]
        }
      ]
    },
    {
      "cell_type": "code",
      "source": [
        "names.append('나미') \n",
        "print(names)"
      ],
      "metadata": {
        "colab": {
          "base_uri": "https://localhost:8080/"
        },
        "id": "hRBhIH2wWX61",
        "outputId": "795bbda0-985c-4462-af65-cb247e9191c8"
      },
      "execution_count": 25,
      "outputs": [
        {
          "output_type": "stream",
          "name": "stdout",
          "text": [
            "['쵸파', '루피', '상디', '조로', '나미']\n"
          ]
        }
      ]
    },
    {
      "cell_type": "code",
      "source": [
        "print(len(names))"
      ],
      "metadata": {
        "colab": {
          "base_uri": "https://localhost:8080/"
        },
        "id": "EIoRsW5AWX99",
        "outputId": "455aaace-9dad-472a-b9ca-629665251818"
      },
      "execution_count": 26,
      "outputs": [
        {
          "output_type": "stream",
          "name": "stdout",
          "text": [
            "5\n"
          ]
        }
      ]
    },
    {
      "cell_type": "code",
      "source": [
        "print(len('data analysis for everyone'))"
      ],
      "metadata": {
        "colab": {
          "base_uri": "https://localhost:8080/"
        },
        "id": "XN_yzd8BWfag",
        "outputId": "e8576b70-1196-4778-f0ff-cd18c75d7cb6"
      },
      "execution_count": 27,
      "outputs": [
        {
          "output_type": "stream",
          "name": "stdout",
          "text": [
            "26\n"
          ]
        }
      ]
    },
    {
      "cell_type": "code",
      "source": [
        "names.remove('나미') \n",
        "names"
      ],
      "metadata": {
        "colab": {
          "base_uri": "https://localhost:8080/"
        },
        "id": "pULyenX8Wfc8",
        "outputId": "a5c40da0-b70f-4a51-b9a8-6a9a8d23518b"
      },
      "execution_count": 28,
      "outputs": [
        {
          "output_type": "execute_result",
          "data": {
            "text/plain": [
              "['쵸파', '루피', '상디', '조로']"
            ]
          },
          "metadata": {},
          "execution_count": 28
        }
      ]
    },
    {
      "cell_type": "code",
      "source": [
        "names.append('해적왕')\n",
        "for name in names:\n",
        "  if len(name)>2:\n",
        "    print(name, '왔나요?')"
      ],
      "metadata": {
        "colab": {
          "base_uri": "https://localhost:8080/"
        },
        "id": "2J36JEbcWffR",
        "outputId": "ce62c7de-9f73-43a1-e0c1-5ea21e9f4a27"
      },
      "execution_count": 29,
      "outputs": [
        {
          "output_type": "stream",
          "name": "stdout",
          "text": [
            "해적왕 왔나요?\n"
          ]
        }
      ]
    },
    {
      "cell_type": "code",
      "source": [
        "import matplotlib.pyplot as plt\n",
        "\n",
        "plt.plot([10,20,30,40])\n",
        "plt.show()"
      ],
      "metadata": {
        "colab": {
          "base_uri": "https://localhost:8080/",
          "height": 265
        },
        "id": "UKTqDsLWWfh8",
        "outputId": "d586c21b-c1fd-40a4-9ae1-1a8ef0d90334"
      },
      "execution_count": 30,
      "outputs": [
        {
          "output_type": "display_data",
          "data": {
            "text/plain": [
              "<Figure size 432x288 with 1 Axes>"
            ],
            "image/png": "[encoded data removed]"
          },
          "metadata": {
            "needs_background": "light"
          }
        }
      ]
    },
    {
      "cell_type": "code",
      "source": [
        "plt.plot([1,2,3,4],[12,43,25,15])\n",
        "plt.show()"
      ],
      "metadata": {
        "colab": {
          "base_uri": "https://localhost:8080/",
          "height": 265
        },
        "id": "PmyBj_AxWfl4",
        "outputId": "f3e143f6-ccf6-40a3-9468-6a69b4b1b77a"
      },
      "execution_count": 32,
      "outputs": [
        {
          "output_type": "display_data",
          "data": {
            "text/plain": [
              "<Figure size 432x288 with 1 Axes>"
            ],
            "image/png": "[encoded data removed]"
          },
          "metadata": {
            "needs_background": "light"
          }
        }
      ]
    },
    {
      "cell_type": "code",
      "source": [
        "import matplotlib.pyplot as plt\n",
        "plt.title('plotting')\n",
        "plt.plot([10,20,30,40])\n",
        "plt.show()"
      ],
      "metadata": {
        "colab": {
          "base_uri": "https://localhost:8080/",
          "height": 281
        },
        "id": "sC6t6SeQXEaO",
        "outputId": "ba989f86-48a8-480c-8630-1e18d1d8a98d"
      },
      "execution_count": 31,
      "outputs": [
        {
          "output_type": "display_data",
          "data": {
            "text/plain": [
              "<Figure size 432x288 with 1 Axes>"
            ],
            "image/png": "[encoded data removed]"
          },
          "metadata": {
            "needs_background": "light"
          }
        }
      ]
    },
    {
      "cell_type": "code",
      "source": [
        "plt.plot([1,2,3,4],[12,43,25,15])\n",
        "plt.show()"
      ],
      "metadata": {
        "colab": {
          "base_uri": "https://localhost:8080/",
          "height": 265
        },
        "id": "yEi5yl0tWfoI",
        "outputId": "50ed38dd-9c3e-483d-90a5-619b4f01a2b2"
      },
      "execution_count": 33,
      "outputs": [
        {
          "output_type": "display_data",
          "data": {
            "text/plain": [
              "<Figure size 432x288 with 1 Axes>"
            ],
            "image/png": "[encoded data removed]"
          },
          "metadata": {
            "needs_background": "light"
          }
        }
      ]
    },
    {
      "cell_type": "code",
      "source": [
        "plt.title('legend')\n",
        "plt.plot([10,20,30,40],label='asc')\n",
        "plt.plot([40,30,20,10],label='desc')\n",
        "plt.legend(loc=10) \n",
        "plt.show()"
      ],
      "metadata": {
        "colab": {
          "base_uri": "https://localhost:8080/",
          "height": 281
        },
        "id": "XTGKN0y5WfqN",
        "outputId": "733950aa-1acf-4d75-8cbc-bcf0842e64fc"
      },
      "execution_count": 34,
      "outputs": [
        {
          "output_type": "display_data",
          "data": {
            "text/plain": [
              "<Figure size 432x288 with 1 Axes>"
            ],
            "image/png": "[encoded data removed]"
          },
          "metadata": {
            "needs_background": "light"
          }
        }
      ]
    },
    {
      "cell_type": "code",
      "source": [
        "import matplotlib.pyplot as plt\n",
        "plt.title('color') \n",
        "plt.plot([10,20,30,40], color='skyblue', label='asc')\n",
        "plt.plot([40,30,20,10], 'tomato', label='desc')\n",
        "plt.legend(loc=4) \n",
        "plt.show()"
      ],
      "metadata": {
        "colab": {
          "base_uri": "https://localhost:8080/",
          "height": 281
        },
        "id": "VCoEOu6NXjya",
        "outputId": "ae33ebe2-4cfc-4af9-d291-76e89d54a7da"
      },
      "execution_count": 37,
      "outputs": [
        {
          "output_type": "display_data",
          "data": {
            "text/plain": [
              "<Figure size 432x288 with 1 Axes>"
            ],
            "image/png": "[encoded data removed]"
          },
          "metadata": {
            "needs_background": "light"
          }
        }
      ]
    },
    {
      "cell_type": "code",
      "source": [
        "import matplotlib.pyplot as plt\n",
        "plt.title('linestyle') \n",
        "plt.plot([10,20,30,40], color='skyblue', linestyle='--', label='dashed')\n",
        "plt.plot([40,30,20,10], 'tomato', ls=':', label='dotted')\n",
        "plt.legend(loc=4) \n",
        "plt.show()"
      ],
      "metadata": {
        "colab": {
          "base_uri": "https://localhost:8080/",
          "height": 281
        },
        "id": "KoeoL3faXneC",
        "outputId": "cf0c8344-f03e-4d7a-d6f3-a126fd39781e"
      },
      "execution_count": 38,
      "outputs": [
        {
          "output_type": "display_data",
          "data": {
            "text/plain": [
              "<Figure size 432x288 with 1 Axes>"
            ],
            "image/png": "[encoded data removed]"
          },
          "metadata": {
            "needs_background": "light"
          }
        }
      ]
    },
    {
      "cell_type": "code",
      "source": [
        "import matplotlib.pyplot as plt\n",
        "plt.scatter([1,2,3,4], [10,30,20,40]) #x 와 y에 각각 값 입력\n",
        "plt.show()"
      ],
      "metadata": {
        "colab": {
          "base_uri": "https://localhost:8080/",
          "height": 265
        },
        "id": "8FwBiKHTXq3i",
        "outputId": "72883f8a-ae37-40f1-9598-3efa37c3598c"
      },
      "execution_count": 39,
      "outputs": [
        {
          "output_type": "display_data",
          "data": {
            "text/plain": [
              "<Figure size 432x288 with 1 Axes>"
            ],
            "image/png": "[encoded data removed]"
          },
          "metadata": {
            "needs_background": "light"
          }
        }
      ]
    },
    {
      "cell_type": "code",
      "source": [
        "import matplotlib.pyplot as plt\n",
        "plt.scatter([1,2,3,4], [10,30,20,40],s=[100,200,250,300])\n",
        "plt.show()"
      ],
      "metadata": {
        "colab": {
          "base_uri": "https://localhost:8080/",
          "height": 265
        },
        "id": "QEkHkwiFXfFN",
        "outputId": "3709167c-9ccf-447b-fa0e-957754dc2c21"
      },
      "execution_count": 36,
      "outputs": [
        {
          "output_type": "display_data",
          "data": {
            "text/plain": [
              "<Figure size 432x288 with 1 Axes>"
            ],
            "image/png": "[encoded data removed]"
          },
          "metadata": {
            "needs_background": "light"
          }
        }
      ]
    },
    {
      "cell_type": "code",
      "source": [
        "import matplotlib.pyplot as plt\n",
        "plt.scatter([1,2,3,4],[10,30,20,40],s=[100,200,250,300],c=['red','lightblue','lime','maroon'])\n",
        "plt.show()"
      ],
      "metadata": {
        "colab": {
          "base_uri": "https://localhost:8080/",
          "height": 265
        },
        "id": "Ef-dPWz8XKaK",
        "outputId": "53e7cc75-3077-4bd0-8aa3-582c786cf73b"
      },
      "execution_count": 35,
      "outputs": [
        {
          "output_type": "display_data",
          "data": {
            "text/plain": [
              "<Figure size 432x288 with 1 Axes>"
            ],
            "image/png": "[encoded data removed]"
          },
          "metadata": {
            "needs_background": "light"
          }
        }
      ]
    }
  ]
}